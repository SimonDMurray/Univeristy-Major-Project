{
 "cells": [
  {
   "cell_type": "markdown",
   "id": "seasonal-signature",
   "metadata": {},
   "source": [
    "Need to ensure that MCL clusters are viewed in cellxgene as categorical and not continuous, so a singular alteration to h5ad is needed"
   ]
  },
  {
   "cell_type": "code",
   "execution_count": 25,
   "id": "fourth-pizza",
   "metadata": {},
   "outputs": [],
   "source": [
    "import scanpy as sc"
   ]
  },
  {
   "cell_type": "code",
   "execution_count": 26,
   "id": "nominated-power",
   "metadata": {},
   "outputs": [],
   "source": [
    "# Reading in ADT anndata object\n",
    "ADT_adata = sc.read_h5ad(\"ADT_seurat_analysis_output/integrated_anndata/ADT.h5ad\")"
   ]
  },
  {
   "cell_type": "code",
   "execution_count": 28,
   "id": "scenic-miniature",
   "metadata": {},
   "outputs": [],
   "source": [
    "# Converting ADT MCL clusters to categorical to be correctly displayed on cellxgene\n",
    "ADT_mcl_columns = ADT_adata.obs.filter(regex=\"mcl_I\")\n",
    "for column in ADT_mcl_columns:\n",
    "    ADT_adata.obs[column] = ADT_adata.obs[column].astype('category')"
   ]
  },
  {
   "cell_type": "code",
   "execution_count": 29,
   "id": "expected-hunger",
   "metadata": {},
   "outputs": [],
   "source": [
    "# Writing altered ADT h5ad file\n",
    "ADT_adata.write_h5ad(\"ADT_seurat_analysis_output/integrated_anndata/categorical_ADT.h5ad\")"
   ]
  },
  {
   "cell_type": "code",
   "execution_count": 30,
   "id": "ignored-departure",
   "metadata": {},
   "outputs": [],
   "source": [
    "# Reading in RNA anndata object\n",
    "RNA_adata = sc.read_h5ad(\"RNA_seurat_analysis_output/integrated_anndata/RNA.h5ad\")"
   ]
  },
  {
   "cell_type": "code",
   "execution_count": 31,
   "id": "intermediate-defensive",
   "metadata": {},
   "outputs": [],
   "source": [
    "# Converting RNA MCL clusters to categorical to be correctly displayed on cellxgene\n",
    "RNA_mcl_columns = RNA_adata.obs.filter(regex=\"mcl_I\")\n",
    "for column in RNA_mcl_columns:\n",
    "    RNA_adata.obs[column] = RNA_adata.obs[column].astype('category')"
   ]
  },
  {
   "cell_type": "code",
   "execution_count": 32,
   "id": "applicable-programmer",
   "metadata": {},
   "outputs": [],
   "source": [
    "# Writing altered RNA h5ad file\n",
    "RNA_adata.write_h5ad(\"RNA_seurat_analysis_output/integrated_anndata/categorical_RNA.h5ad\")"
   ]
  }
 ],
 "metadata": {
  "kernelspec": {
   "display_name": "Python 3",
   "language": "python",
   "name": "python3"
  },
  "language_info": {
   "codemirror_mode": {
    "name": "ipython",
    "version": 3
   },
   "file_extension": ".py",
   "mimetype": "text/x-python",
   "name": "python",
   "nbconvert_exporter": "python",
   "pygments_lexer": "ipython3",
   "version": "3.8.8"
  }
 },
 "nbformat": 4,
 "nbformat_minor": 5
}
